{
 "cells": [
  {
   "cell_type": "markdown",
   "id": "d6f52718",
   "metadata": {},
   "source": [
    "## 🚢 Phase 1: Setup & CSV Exploration\n",
    "\n",
    "### ✅ Step 1: Load Data\n",
    "\n",
    "- Load `train.csv` and `test.csv` using `pandas`.\n",
    "- Preview the data using `.head()`.\n",
    "\n",
    "### ✅ Step 2: Inspect Data\n",
    "\n",
    "- Use `.info()` to check column types and nulls.\n",
    "- Use `.describe()` for summary statistics.\n",
    "- Use `.isnull().sum()` to count missing values in each column.\n",
    "\n",
    "### ✅ Step 3: Basic Visualizations\n",
    "\n",
    "- Use `seaborn` and `matplotlib` for initial charts.\n",
    "- Visualize survival counts, survival by sex, and survival by passenger class.\n",
    "- G\n"
   ]
  },
  {
   "cell_type": "code",
   "execution_count": 22,
   "id": "6b3bb09a",
   "metadata": {},
   "outputs": [
    {
     "name": "stdout",
     "output_type": "stream",
     "text": [
      "train csv: \n",
      "   PassengerId  Survived  Pclass  \\\n",
      "0            1         0       3   \n",
      "1            2         1       1   \n",
      "2            3         1       3   \n",
      "3            4         1       1   \n",
      "4            5         0       3   \n",
      "\n",
      "                                                Name     Sex   Age  SibSp  \\\n",
      "0                            Braund, Mr. Owen Harris    male  22.0      1   \n",
      "1  Cumings, Mrs. John Bradley (Florence Briggs Th...  female  38.0      1   \n",
      "2                             Heikkinen, Miss. Laina  female  26.0      0   \n",
      "3       Futrelle, Mrs. Jacques Heath (Lily May Peel)  female  35.0      1   \n",
      "4                           Allen, Mr. William Henry    male  35.0      0   \n",
      "\n",
      "   Parch            Ticket     Fare Cabin Embarked  \n",
      "0      0         A/5 21171   7.2500   NaN        S  \n",
      "1      0          PC 17599  71.2833   C85        C  \n",
      "2      0  STON/O2. 3101282   7.9250   NaN        S  \n",
      "3      0            113803  53.1000  C123        S  \n",
      "4      0            373450   8.0500   NaN        S  \n",
      "\n",
      "test csv: \n",
      "   PassengerId  Survived  Pclass  \\\n",
      "0            1         0       3   \n",
      "1            2         1       1   \n",
      "2            3         1       3   \n",
      "3            4         1       1   \n",
      "4            5         0       3   \n",
      "\n",
      "                                                Name     Sex   Age  SibSp  \\\n",
      "0                            Braund, Mr. Owen Harris    male  22.0      1   \n",
      "1  Cumings, Mrs. John Bradley (Florence Briggs Th...  female  38.0      1   \n",
      "2                             Heikkinen, Miss. Laina  female  26.0      0   \n",
      "3       Futrelle, Mrs. Jacques Heath (Lily May Peel)  female  35.0      1   \n",
      "4                           Allen, Mr. William Henry    male  35.0      0   \n",
      "\n",
      "   Parch            Ticket     Fare Cabin Embarked  \n",
      "0      0         A/5 21171   7.2500   NaN        S  \n",
      "1      0          PC 17599  71.2833   C85        C  \n",
      "2      0  STON/O2. 3101282   7.9250   NaN        S  \n",
      "3      0            113803  53.1000  C123        S  \n",
      "4      0            373450   8.0500   NaN        S  \n"
     ]
    }
   ],
   "source": [
    "import pandas as pd\n",
    "\n",
    "train = pd.read_csv('train.csv')\n",
    "test = pd.read_csv('test.csv')  #loading the data\n",
    "\n",
    "#first 5 data cells :-\n",
    "\n",
    "print(\"train csv: \")\n",
    "print(train.head())\n",
    "\n",
    "print(\"\\ntest csv: \")\n",
    "print(train.head())"
   ]
  },
  {
   "cell_type": "code",
   "execution_count": 23,
   "id": "3d55e58a",
   "metadata": {},
   "outputs": [
    {
     "name": "stdout",
     "output_type": "stream",
     "text": [
      "Train Data Info:\n",
      "<class 'pandas.core.frame.DataFrame'>\n",
      "RangeIndex: 891 entries, 0 to 890\n",
      "Data columns (total 12 columns):\n",
      " #   Column       Non-Null Count  Dtype  \n",
      "---  ------       --------------  -----  \n",
      " 0   PassengerId  891 non-null    int64  \n",
      " 1   Survived     891 non-null    int64  \n",
      " 2   Pclass       891 non-null    int64  \n",
      " 3   Name         891 non-null    object \n",
      " 4   Sex          891 non-null    object \n",
      " 5   Age          714 non-null    float64\n",
      " 6   SibSp        891 non-null    int64  \n",
      " 7   Parch        891 non-null    int64  \n",
      " 8   Ticket       891 non-null    object \n",
      " 9   Fare         891 non-null    float64\n",
      " 10  Cabin        204 non-null    object \n",
      " 11  Embarked     889 non-null    object \n",
      "dtypes: float64(2), int64(5), object(5)\n",
      "memory usage: 83.7+ KB\n",
      "\n",
      "Test Data Info:\n",
      "<class 'pandas.core.frame.DataFrame'>\n",
      "RangeIndex: 418 entries, 0 to 417\n",
      "Data columns (total 11 columns):\n",
      " #   Column       Non-Null Count  Dtype  \n",
      "---  ------       --------------  -----  \n",
      " 0   PassengerId  418 non-null    int64  \n",
      " 1   Pclass       418 non-null    int64  \n",
      " 2   Name         418 non-null    object \n",
      " 3   Sex          418 non-null    object \n",
      " 4   Age          332 non-null    float64\n",
      " 5   SibSp        418 non-null    int64  \n",
      " 6   Parch        418 non-null    int64  \n",
      " 7   Ticket       418 non-null    object \n",
      " 8   Fare         417 non-null    float64\n",
      " 9   Cabin        91 non-null     object \n",
      " 10  Embarked     418 non-null    object \n",
      "dtypes: float64(2), int64(4), object(5)\n",
      "memory usage: 36.1+ KB\n"
     ]
    }
   ],
   "source": [
    "print(\"Train Data Info:\")\n",
    "train.info()\n",
    "\n",
    "print(\"\\nTest Data Info:\")\n",
    "test.info()\n"
   ]
  },
  {
   "cell_type": "code",
   "execution_count": 24,
   "id": "7eec2431",
   "metadata": {},
   "outputs": [
    {
     "name": "stdout",
     "output_type": "stream",
     "text": [
      "train data description\n",
      "       PassengerId    Survived      Pclass         Age       SibSp  \\\n",
      "count   891.000000  891.000000  891.000000  714.000000  891.000000   \n",
      "mean    446.000000    0.383838    2.308642   29.699118    0.523008   \n",
      "std     257.353842    0.486592    0.836071   14.526497    1.102743   \n",
      "min       1.000000    0.000000    1.000000    0.420000    0.000000   \n",
      "25%     223.500000    0.000000    2.000000   20.125000    0.000000   \n",
      "50%     446.000000    0.000000    3.000000   28.000000    0.000000   \n",
      "75%     668.500000    1.000000    3.000000   38.000000    1.000000   \n",
      "max     891.000000    1.000000    3.000000   80.000000    8.000000   \n",
      "\n",
      "            Parch        Fare  \n",
      "count  891.000000  891.000000  \n",
      "mean     0.381594   32.204208  \n",
      "std      0.806057   49.693429  \n",
      "min      0.000000    0.000000  \n",
      "25%      0.000000    7.910400  \n",
      "50%      0.000000   14.454200  \n",
      "75%      0.000000   31.000000  \n",
      "max      6.000000  512.329200  \n"
     ]
    }
   ],
   "source": [
    "print(\"train data description\")\n",
    "print(train.describe())"
   ]
  },
  {
   "cell_type": "code",
   "execution_count": 25,
   "id": "f3b6ccb9",
   "metadata": {},
   "outputs": [
    {
     "name": "stdout",
     "output_type": "stream",
     "text": [
      "missing values in train set\n",
      "PassengerId      0\n",
      "Survived         0\n",
      "Pclass           0\n",
      "Name             0\n",
      "Sex              0\n",
      "Age            177\n",
      "SibSp            0\n",
      "Parch            0\n",
      "Ticket           0\n",
      "Fare             0\n",
      "Cabin          687\n",
      "Embarked         2\n",
      "dtype: int64\n",
      "\n",
      "missing values in test set\n",
      "PassengerId      0\n",
      "Pclass           0\n",
      "Name             0\n",
      "Sex              0\n",
      "Age             86\n",
      "SibSp            0\n",
      "Parch            0\n",
      "Ticket           0\n",
      "Fare             1\n",
      "Cabin          327\n",
      "Embarked         0\n",
      "dtype: int64\n"
     ]
    }
   ],
   "source": [
    "#chceking missing values in test and train dataset\n",
    "\n",
    "print(\"missing values in train set\")\n",
    "print(train.isnull().sum())\n",
    "\n",
    "print(\"\\nmissing values in test set\")\n",
    "print(test.isnull().sum())\n",
    "\n",
    "#shows us that many datasets of cbin and age are missing which arer crutial"
   ]
  },
  {
   "cell_type": "code",
   "execution_count": 26,
   "id": "abb41167",
   "metadata": {},
   "outputs": [],
   "source": [
    "import seaborn as sns #for Stylish & easy statistical plots\n",
    "import matplotlib.pyplot as plt # Core Python plotting tool"
   ]
  },
  {
   "cell_type": "code",
   "execution_count": 27,
   "id": "76ce1d3e",
   "metadata": {},
   "outputs": [
    {
     "data": {
      "text/plain": [
       "<function matplotlib.pyplot.show(close=None, block=None)>"
      ]
     },
     "execution_count": 27,
     "metadata": {},
     "output_type": "execute_result"
    },
    {
     "data": {
      "image/png": "[encoded data removed]",
      "text/plain": [
       "<Figure size 640x480 with 1 Axes>"
      ]
     },
     "metadata": {},
     "output_type": "display_data"
    }
   ],
   "source": [
    "sns.countplot(x='Survived', data = train) #plots graph for survived column 0 = didnt survived , 1 = survived\n",
    "plt.title(\"Survival Counts\")\n",
    "plt.show"
   ]
  },
  {
   "cell_type": "code",
   "execution_count": 28,
   "id": "5349c8ce",
   "metadata": {},
   "outputs": [
    {
     "data": {
      "image/png": "[encoded data removed]",
      "text/plain": [
       "<Figure size 640x480 with 1 Axes>"
      ]
     },
     "metadata": {},
     "output_type": "display_data"
    }
   ],
   "source": [
    "sns.countplot(x='Sex', hue='Survived', data=train)  # hue adds colour to the 1 values (survived) of the survive column\n",
    "plt.title(\"Survival by Sex\")\n",
    "plt.show()\n"
   ]
  },
  {
   "cell_type": "code",
   "execution_count": 29,
   "id": "728e4778",
   "metadata": {},
   "outputs": [
    {
     "data": {
      "image/png": "[encoded data removed]",
      "text/plain": [
       "<Figure size 640x480 with 1 Axes>"
      ]
     },
     "metadata": {},
     "output_type": "display_data"
    },
    {
     "data": {
      "text/plain": [
       "'Why it matters?\\nBecause ticket class influenced survival rates a lot:\\n1st class passengers were prioritized for lifeboats.\\n3rd class passengers were mostly at the bottom decks and got trapped'"
      ]
     },
     "execution_count": 29,
     "metadata": {},
     "output_type": "execute_result"
    }
   ],
   "source": [
    "sns.countplot(x='Pclass', hue='Survived', data=train) #Pclass stands for Passenger Class on the Titanic. It indicates the ticket class — basically like Economy vs Business.\n",
    "sns.countplot(x='Pclass', hue='Survived', data=train) \n",
    "plt.title(\"Survival by Passenger Class\")\n",
    "plt.show()\n",
    "\n",
    "'''Why it matters?\n",
    "Because ticket class influenced survival rates a lot:\n",
    "1st class passengers were prioritized for lifeboats.\n",
    "3rd class passengers were mostly at the bottom decks and got trapped'''"
   ]
  },
  {
   "cell_type": "markdown",
   "id": "baa4d600",
   "metadata": {},
   "source": [
    "## 🧹 Phase 2: Data Cleaning + Feature Engineering\n",
    "\n",
    "### ✅ Step 1: Handle Missing Values\n",
    "\n",
    "- Fill missing values in `Age` using median.\n",
    "- Fill missing `Embarked` values with mode.\n",
    "- Fill missing `Fare` in test set with median.\n",
    "- Drop `Cabin` column (too many missing entries).\n",
    "\n",
    "### ✅ Step 2: Convert Categorical Columns\n",
    "\n",
    "- Convert `Sex` and `Embarked` into numerical values using Label Encoding.\n",
    "\n",
    "### ✅ Step 3: Feature Engineering\n",
    "\n",
    "- Create new features like `FamilySize` (SibSp + Parch + 1).\n",
    "- Add `IsAlone` (1 if FamilySize == 1, else 0).\n",
    "\n",
    "### ✅ Step 4: Drop Unused Columns\n",
    "\n",
    "- Remove `Name`, `Ticket`, and `PassengerId` columns (not useful for prediction).\n",
    "- Save `PassengerId` from the test set for final submission.\n"
   ]
  },
  {
   "cell_type": "code",
   "execution_count": 30,
   "id": "037545c6",
   "metadata": {},
   "outputs": [],
   "source": [
    "\n",
    "# Fill missing 'Age' with median (train & test)\n",
    "train['Age'] = train['Age'].fillna(train['Age'].median())\n",
    "test['Age'] = test['Age'].fillna(test['Age'].median())\n",
    "\n",
    "# Fill missing 'Embarked' in train with mode\n",
    "train['Embarked'] = train['Embarked'].fillna(train['Embarked'].mode()[0])#MODE = most common value and embarked category is text base so can't use median or mean\n",
    "#If there is a tie (2+ values equally common) , mode()[0]  grabs the first mode value\n",
    "\n",
    "# Fill missing 'Fare' in test with median\n",
    "test['Fare'] = test['Fare'].fillna(test['Fare'].median())\n",
    "\n",
    "# Drop 'Cabin' (too many missing values)\n",
    "train = train.drop('Cabin', axis=1)\n",
    "test = test.drop('Cabin', axis=1)  # Means: Drop the \"Cabin\" column (since axis = 1 → column direction)\n"
   ]
  },
  {
   "cell_type": "code",
   "execution_count": 31,
   "id": "498e7bd7",
   "metadata": {},
   "outputs": [
    {
     "name": "stdout",
     "output_type": "stream",
     "text": [
      "Sex classes: ['female' 'male']\n",
      "Embarked classes: ['C' 'Q' 'S']\n"
     ]
    }
   ],
   "source": [
    "from sklearn.preprocessing import LabelEncoder\n",
    "\n",
    "# Create separate encoders for each column\n",
    "le_sex = LabelEncoder()\n",
    "le_embarked = LabelEncoder()\n",
    "\n",
    "# Fit on train, transform on both train and test — no leakage\n",
    "train['Sex'] = le_sex.fit_transform(train['Sex'])\n",
    "test['Sex'] = le_sex.transform(test['Sex'])\n",
    "\n",
    "train['Embarked'] = le_embarked.fit_transform(train['Embarked'])\n",
    "test['Embarked'] = le_embarked.transform(test['Embarked'])\n",
    "\n",
    "# Optional: print mappings if you want to confirm\n",
    "print(\"Sex classes:\", le_sex.classes_)         # ['female = 0' 'male = 1']\n",
    "print(\"Embarked classes:\", le_embarked.classes_)  # ['C' 'Q' 'S']\n"
   ]
  },
  {
   "cell_type": "code",
   "execution_count": 32,
   "id": "dd77e03a",
   "metadata": {},
   "outputs": [
    {
     "data": {
      "text/plain": [
       "'We check if FamilySize == 1 → means the person is alone\\nThis creates a boolean: True or False\\nBut ML models need 0s and 1s, not booleans'"
      ]
     },
     "execution_count": 32,
     "metadata": {},
     "output_type": "execute_result"
    }
   ],
   "source": [
    "# Create 'FamilySize' = SibSp + Parch + 1 (self)\n",
    "train['FamilySize'] = train['SibSp'] + train['Parch'] + 1\n",
    "test['FamilySize'] = test['SibSp'] + test['Parch'] + 1\n",
    "\n",
    "'''SibSp\tNumber of Siblings or Spouses aboard\t1 = with brother or wife\n",
    "Parch\tNumber of Parents or Children aboard\t2 = with mom and kid\n",
    "+1\tYou (the passenger) — always 1\tAdds yourself to the family count'''\n",
    "\n",
    "# Create 'IsAlone' = 1 if alone, else 0\n",
    "train['IsAlone'] = (train['FamilySize'] == 1).astype(int)\n",
    "test['IsAlone'] = (test['FamilySize'] == 1).astype(int)\n",
    "\n",
    "'''We check if FamilySize == 1 → means the person is alone\n",
    "This creates a boolean: True or False\n",
    "But ML models need 0s and 1s, not booleans'''"
   ]
  },
  {
   "cell_type": "code",
   "execution_count": 33,
   "id": "fe03ab69",
   "metadata": {},
   "outputs": [],
   "source": [
    "# 1. Re-load the test dataset to get a clean copy\n",
    "test = pd.read_csv(\"test.csv\") \n",
    "\n",
    "# 2. Save PassengerId for later Kaggle submission\n",
    "test_passenger_ids = test['PassengerId']\n",
    "\n",
    "# 3. Now drop the unused columns safely\n",
    "test = test.drop(['Name', 'Ticket', 'PassengerId'], axis=1)\n"
   ]
  },
  {
   "cell_type": "markdown",
   "id": "6d9f046e",
   "metadata": {},
   "source": [
    "### 🧠 Phase 3: Modeling\n",
    "\n",
    "---\n",
    "\n",
    "#### 🎯 Goal:\n",
    "Train a machine learning model to predict whether passengers survived the Titanic disaster.\n",
    "\n",
    "---\n",
    "\n",
    "#### 📦 Steps Involved:\n",
    "1. **Split the data** into features (`X`) and target (`y` - the `Survived` column).\n",
    "2. **Split training data** into training and validation sets using `train_test_split`.\n",
    "3. **Train a Logistic Regression model** on the training set.\n",
    "4. **Predict on validation data** to check performance.\n",
    "5. **Evaluate the model** using accuracy, confusion matrix, and classification report.\n",
    "\n",
    "---\n",
    "\n",
    "#### 📌 Libraries Used:\n",
    "- `scikit-learn` for model training and evaluation\n",
    "- `train_test_split` for splitting data\n",
    "- `LogisticRegression` for classification\n",
    "- `accuracy_score`, `confusion_matrix`, `classification_report` for evaluation\n"
   ]
  },
  {
   "cell_type": "code",
   "execution_count": 34,
   "id": "b64b6f44",
   "metadata": {},
   "outputs": [
    {
     "name": "stdout",
     "output_type": "stream",
     "text": [
      "PassengerId    0\n",
      "Pclass         0\n",
      "Name           0\n",
      "Sex            0\n",
      "Age            0\n",
      "SibSp          0\n",
      "Parch          0\n",
      "Ticket         0\n",
      "Fare           0\n",
      "Embarked       0\n",
      "FamilySize     0\n",
      "IsAlone        0\n",
      "dtype: int64\n"
     ]
    }
   ],
   "source": [
    "X = train.drop(\"Survived\", axis=1)\n",
    "y = train[\"Survived\"]\n",
    "\n",
    "print(X.isnull().sum())"
   ]
  },
  {
   "cell_type": "code",
   "execution_count": 35,
   "id": "8457c20a",
   "metadata": {},
   "outputs": [
    {
     "name": "stdout",
     "output_type": "stream",
     "text": [
      "✅ Accuracy: 0.7988826815642458\n",
      "\n",
      "📊 Confusion Matrix:\n",
      " [[89 16]\n",
      " [20 54]]\n",
      "\n",
      "📋 Classification Report:\n",
      "               precision    recall  f1-score   support\n",
      "\n",
      "           0       0.82      0.85      0.83       105\n",
      "           1       0.77      0.73      0.75        74\n",
      "\n",
      "    accuracy                           0.80       179\n",
      "   macro avg       0.79      0.79      0.79       179\n",
      "weighted avg       0.80      0.80      0.80       179\n",
      "\n"
     ]
    }
   ],
   "source": [
    "# 📦 Import required libraries\n",
    "from sklearn.model_selection import train_test_split\n",
    "from sklearn.linear_model import LogisticRegression\n",
    "from sklearn.metrics import accuracy_score, confusion_matrix, classification_report\n",
    "\n",
    "# Make sure these columns are removed from train since they contain string\n",
    "train = train.drop(['Name', 'Ticket', 'Cabin', 'PassengerId'], axis=1, errors='ignore')\n",
    "\n",
    "\n",
    "# 1️⃣ Split into features (X) and target (y)\n",
    "X = train.drop('Survived', axis=1)\n",
    "y = train['Survived']\n",
    "\n",
    "# 2️⃣ Split training data into training and validation sets (80% train, 20% val)\n",
    "X_train, X_val, y_train, y_val = train_test_split(X, y, test_size=0.2, random_state=42)\n",
    "\n",
    "# 3️⃣ Initialize and train a Logistic Regression model\n",
    "model = LogisticRegression(max_iter=1000)  # max_iter increased to avoid convergence warnings\n",
    "model.fit(X_train, y_train)\n",
    "\n",
    "# 4️⃣ Predict on validation set\n",
    "y_pred = model.predict(X_val)\n",
    "\n",
    "# 5️⃣ Evaluate model performance\n",
    "print(\"✅ Accuracy:\", accuracy_score(y_val, y_pred))\n",
    "print(\"\\n📊 Confusion Matrix:\\n\", confusion_matrix(y_val, y_pred))\n",
    "print(\"\\n📋 Classification Report:\\n\", classification_report(y_val, y_pred))\n"
   ]
  },
  {
   "cell_type": "markdown",
   "id": "363c3ea3",
   "metadata": {},
   "source": [
    "## 🌲 Phase 3.2 – Model 2: Random Forest Classifier\n",
    "\n",
    "In this phase, we trained a **Random Forest Classifier** to improve performance over our baseline Logistic Regression model.\n",
    "\n",
    "### ✅ Why Random Forest?\n",
    "\n",
    "Random Forest is an **ensemble learning method** that builds multiple decision trees and combines their outputs (majority vote) to make robust, non-linear predictions. It handles:\n",
    "- Missing values better\n",
    "- Non-linear patterns in data\n",
    "- Reduces overfitting compared to a single tree\n",
    "\n",
    "---\n",
    "\n",
    "### 📦 Model Training\n",
    "\n",
    "We used `sklearn.ensemble.RandomForestClassifier` with the following setup:\n",
    "\n",
    "```python\n",
    "from sklearn.ensemble import RandomForestClassifier\n",
    "\n",
    "rf_model = RandomForestClassifier(n_estimators=100, random_state=42)\n",
    "rf_model.fit(X_train, y_train)\n",
    "```\n",
    "\n",
    "---\n",
    "\n",
    "### 📈 Performance\n",
    "\n",
    "| Metric               | Value    |\n",
    "|----------------------|----------|\n",
    "| Accuracy             | ~X.XX    |\n",
    "| Precision (Survived) | ~X.XX    |\n",
    "| Recall (Survived)    | ~X.XX    |\n",
    "| F1-Score (Survived)  | ~X.XX    |\n",
    "\n",
    "Replace these after running:\n",
    "\n",
    "```python\n",
    "from sklearn.metrics import accuracy_score, confusion_matrix, classification_report\n",
    "\n",
    "rf_pred = rf_model.predict(X_val)\n",
    "print(\"Accuracy:\", accuracy_score(y_val, rf_pred))\n",
    "print(confusion_matrix(y_val, rf_pred))\n",
    "print(classification_report(y_val, rf_pred))\n",
    "```\n",
    "\n",
    "---\n",
    "\n",
    "### 🆚 Comparison vs Logistic Regression\n",
    "\n",
    "| Metric        | Logistic Regression | Random Forest |\n",
    "|---------------|---------------------|----------------|\n",
    "| Accuracy      | ~0.79               | ~X.XX          |\n",
    "| Model Type    | Linear              | Ensemble       |\n",
    "| Flexibility   | Low (linearity)     | High (nonlinear relationships) |\n",
    "| Overfitting Risk | Low              | Medium (if not tuned) |\n",
    "\n",
    "---\n",
    "\n",
    "### 💡 Insights:\n",
    "\n",
    "- Random Forest gave a stronger result than Logistic Regression.\n",
    "- It captured interactions between features more effectively.\n",
    "- This model will be considered for final Kaggle submission.\n"
   ]
  },
  {
   "cell_type": "code",
   "execution_count": 36,
   "id": "ef06f7fe",
   "metadata": {},
   "outputs": [
    {
     "name": "stdout",
     "output_type": "stream",
     "text": [
      "🌲 Random Forest Accuracy: 0.8156424581005587\n",
      "Confusion Matrix:\n",
      " [[90 15]\n",
      " [18 56]]\n",
      "Classification Report:\n",
      "               precision    recall  f1-score   support\n",
      "\n",
      "           0       0.83      0.86      0.85       105\n",
      "           1       0.79      0.76      0.77        74\n",
      "\n",
      "    accuracy                           0.82       179\n",
      "   macro avg       0.81      0.81      0.81       179\n",
      "weighted avg       0.81      0.82      0.82       179\n",
      "\n"
     ]
    }
   ],
   "source": [
    "from sklearn.ensemble import RandomForestClassifier\n",
    "\n",
    "# Create and train the model\n",
    "rf_model = RandomForestClassifier(n_estimators=100, random_state=42)\n",
    "rf_model.fit(X_train, y_train)\n",
    "\n",
    "# Predict on validation set\n",
    "rf_pred = rf_model.predict(X_val)\n",
    "\n",
    "# Evaluate\n",
    "from sklearn.metrics import accuracy_score, classification_report, confusion_matrix\n",
    "\n",
    "print(\"🌲 Random Forest Accuracy:\", accuracy_score(y_val, rf_pred))\n",
    "print(\"Confusion Matrix:\\n\", confusion_matrix(y_val, rf_pred))\n",
    "print(\"Classification Report:\\n\", classification_report(y_val, rf_pred))\n"
   ]
  },
  {
   "cell_type": "markdown",
   "id": "1d31d60f",
   "metadata": {},
   "source": [
    "---\n",
    "\n",
    "### ✅ 📌 Postscript: Random Forest Results (Phase 3.2)\n",
    "\n",
    "We tested a `RandomForestClassifier` with `n_estimators=100` as a stronger, non-linear model.\n",
    "\n",
    "### 📈 Results Summary:\n",
    "\n",
    "| Metric               | Value     |\n",
    "|----------------------|-----------|\n",
    "| Accuracy             | **0.8156**  |\n",
    "| Precision (Survived) | 0.79      |\n",
    "| Recall (Survived)    | 0.76      |\n",
    "| F1-Score (Survived)  | 0.77      |\n",
    "\n",
    "🟢 **Performance improved** compared to Logistic Regression (~0.7988 accuracy).\n",
    "\n",
    "✅ Confusion Matrix:\n",
    "```\n",
    "[[90 15]\n",
    " [18 56]]\n",
    "```\n",
    "\n",
    "---\n",
    "\n",
    "> ✅ This model performed best so far\n"
   ]
  },
  {
   "cell_type": "markdown",
   "id": "7853dab8",
   "metadata": {},
   "source": [
    "## ⚡ Phase 3.3 – Model 3: XGBoost Classifier\n",
    "\n",
    "In this phase, we applied **XGBoost** — a powerful gradient boosting algorithm known for high accuracy and performance in competitions like Kaggle.\n",
    "\n",
    "### 🔥 Why XGBoost?\n",
    "\n",
    "- Handles missing data internally\n",
    "- Regularization prevents overfitting\n",
    "- Boosting technique builds models sequentially to correct previous errors\n",
    "- Often delivers **top leaderboard scores**\n",
    "\n",
    "---\n",
    "\n",
    "### ⚙️ Model Setup & Training\n",
    "\n",
    "We used the following configuration:\n",
    "\n",
    "```python\n",
    "from xgboost import XGBClassifier\n",
    "\n",
    "xgb_model = XGBClassifier(use_label_encoder=False, eval_metric='logloss', random_state=42)\n",
    "xgb_model.fit(X_train, y_train)\n",
    "```\n",
    "\n",
    "---\n",
    "\n",
    "### 📈 Performance\n",
    "\n",
    "| Metric               | Value     |\n",
    "|----------------------|-----------|\n",
    "| Accuracy             | ~X.XX     |\n",
    "| Precision (Survived) | ~X.XX     |\n",
    "| Recall (Survived)    | ~X.XX     |\n",
    "| F1-Score (Survived)  | ~X.XX     |\n",
    "\n",
    "\n",
    "### 💡 Observations:\n",
    "\n",
    "- XGBoost is often more accurate than both Logistic Regression and Random Forest.\n",
    "- It balances precision and recall well through boosting.\n",
    "- Based on final accuracy, it may be chosen for the Kaggle test submission.\n"
   ]
  },
  {
   "cell_type": "code",
   "execution_count": 37,
   "id": "52cf5c96",
   "metadata": {},
   "outputs": [
    {
     "data": {
      "text/plain": [
       "\"use_label_encoder=False: Prevents deprecation warning\\nlogloss is the score XGBoost uses during training to evaluate how well it's doing.\""
      ]
     },
     "execution_count": 37,
     "metadata": {},
     "output_type": "execute_result"
    }
   ],
   "source": [
    "from xgboost import XGBClassifier\n",
    "\n",
    "xgb_model = XGBClassifier(eval_metric='logloss', random_state=42)\n",
    "xgb_model.fit(X_train, y_train)\n",
    "\n",
    "\n",
    "'''use_label_encoder=False: Prevents deprecation warning\n",
    "logloss is the score XGBoost uses during training to evaluate how well it's doing.'''"
   ]
  },
  {
   "cell_type": "code",
   "execution_count": 38,
   "id": "89fe0978",
   "metadata": {},
   "outputs": [
    {
     "name": "stdout",
     "output_type": "stream",
     "text": [
      "⚡ XGBoost Accuracy: 0.776536312849162\n",
      "Confusion Matrix:\n",
      " [[85 20]\n",
      " [20 54]]\n",
      "Classification Report:\n",
      "               precision    recall  f1-score   support\n",
      "\n",
      "           0       0.81      0.81      0.81       105\n",
      "           1       0.73      0.73      0.73        74\n",
      "\n",
      "    accuracy                           0.78       179\n",
      "   macro avg       0.77      0.77      0.77       179\n",
      "weighted avg       0.78      0.78      0.78       179\n",
      "\n"
     ]
    }
   ],
   "source": [
    "from sklearn.metrics import accuracy_score, confusion_matrix, classification_report\n",
    "\n",
    "# Predict\n",
    "xgb_pred = xgb_model.predict(X_val)\n",
    "\n",
    "# Evaluate\n",
    "print(\"⚡ XGBoost Accuracy:\", accuracy_score(y_val, xgb_pred))\n",
    "print(\"Confusion Matrix:\\n\", confusion_matrix(y_val, xgb_pred))\n",
    "print(\"Classification Report:\\n\", classification_report(y_val, xgb_pred))\n"
   ]
  },
  {
   "cell_type": "markdown",
   "id": "e159bb80",
   "metadata": {},
   "source": [
    "---\n",
    "\n",
    "## 🧠 Final Model Comparison & Conclusion\n",
    "\n",
    "After testing all three models, here’s how they performed:\n",
    "\n",
    "| Model               | Accuracy | Notes |\n",
    "|---------------------|----------|-------|\n",
    "| Logistic Regression | 0.7988   | Strong linear baseline |\n",
    "| 🌲 Random Forest     | **0.8156** | Best overall performance, stable and robust |\n",
    "| ⚡ XGBoost           | 0.7765   | Underperformed without tuning |\n",
    "\n",
    "---\n",
    "\n",
    "### ❓ Why Did XGBoost Perform Worse?\n",
    "\n",
    "Despite being powerful, XGBoost didn’t win in this case due to:\n",
    "\n",
    "- 🔹 **Small dataset** (~800 rows): XGBoost excels on large datasets.\n",
    "- 🔹 **No hyperparameter tuning**: We used default settings.\n",
    "- 🔹 **Simpler feature interactions**: Titanic data is fairly linear.\n",
    "- 🔹 **Random Forest is more plug-and-play**: Performs well even without tuning.\n",
    "\n",
    "---\n",
    "\n",
    "### ✅ Final Decision:\n",
    "\n",
    "We'll proceed with **Random Forest** for test prediction as it gave the highest accuracy and generalization.\n",
    "\n",
    "> 🧪 (Optional) Further tuning of XGBoost (like GridSearch) might close the gap — but isn’t required for a strong Titanic solution.\n"
   ]
  },
  {
   "cell_type": "code",
   "execution_count": 39,
   "id": "592c46b8",
   "metadata": {},
   "outputs": [
    {
     "name": "stdout",
     "output_type": "stream",
     "text": [
      "Fitting 5 folds for each of 108 candidates, totalling 540 fits\n"
     ]
    },
    {
     "name": "stdout",
     "output_type": "stream",
     "text": [
      "Best Parameters: {'colsample_bytree': 0.8, 'learning_rate': 0.1, 'max_depth': 3, 'n_estimators': 50, 'subsample': 0.8}\n",
      "Best Cross-Validation Accuracy: 0.8370235398404413\n",
      "Validation Accuracy: 0.8156424581005587\n",
      "Classification Report:               precision    recall  f1-score   support\n",
      "\n",
      "           0       0.82      0.89      0.85       105\n",
      "           1       0.82      0.72      0.76        74\n",
      "\n",
      "    accuracy                           0.82       179\n",
      "   macro avg       0.82      0.80      0.81       179\n",
      "weighted avg       0.82      0.82      0.81       179\n",
      "\n"
     ]
    }
   ],
   "source": [
    "# 1. Import XGBClassifier and GridSearchCV\n",
    "from xgboost import XGBClassifier\n",
    "from sklearn.model_selection import GridSearchCV\n",
    "\n",
    "# 2. Define the parameter grid to search over\n",
    "# Each key is a hyperparameter name, and values are the list of values GridSearch will try\n",
    "param_grid = {\n",
    "    'n_estimators': [50, 100, 200],         # Number of trees to build\n",
    "    'max_depth': [3, 5, 7],                 # Maximum depth of each tree\n",
    "    'learning_rate': [0.01, 0.1, 0.2],      # How much model corrects in each step (smaller = slower but safer)\n",
    "    'subsample': [0.8, 1.0],                # % of training samples used per tree (helps prevent overfitting)\n",
    "    'colsample_bytree': [0.8, 1.0]          # % of features used per tree (helps with randomness and generalization)\n",
    "}\n",
    "\n",
    "# 3. Create the base XGBoost classifier\n",
    "xgb = XGBClassifier(\n",
    "    eval_metric='logloss',       # Avoids warning related to missing evaluation metric\n",
    "    #use_label_encoder=False ( Newer XGBoost no longer uses label encoder internally so we won't use this)\n",
    "    random_state=42              # Ensures same results every time you run\n",
    ")\n",
    "\n",
    "# 4. Set up GridSearchCV\n",
    "grid_search = GridSearchCV(\n",
    "    estimator=xgb,               # The model we want to tune\n",
    "    param_grid=param_grid,       # The grid of hyperparameters to search\n",
    "    cv=5,                        # 5-fold cross-validation (splits data into 5 and trains on 4, tests on 1 each time)\n",
    "    scoring='accuracy',          # Evaluation metric\n",
    "    n_jobs=-1,                   # Use all available CPU cores (faster)\n",
    "    verbose=1                    # Show progress logs while training\n",
    ")\n",
    "\n",
    "# 5. Fit the GridSearch to our training data\n",
    "grid_search.fit(X_train, y_train)\n",
    "\n",
    "# 6. Print best combination of parameters and best cross-validation score\n",
    "print(\"Best Parameters:\", grid_search.best_params_)\n",
    "print(\"Best Cross-Validation Accuracy:\", grid_search.best_score_)\n",
    "\n",
    "# 7. Use the best model found by GridSearch\n",
    "best_xgb = grid_search.best_estimator_\n",
    "\n",
    "# 8. Predict on validation data using best model\n",
    "y_pred = best_xgb.predict(X_val)\n",
    "\n",
    "# 9. Evaluate the model\n",
    "from sklearn.metrics import accuracy_score, classification_report\n",
    "\n",
    "print(\"Validation Accuracy:\", accuracy_score(y_val, y_pred))\n",
    "print(\"Classification Report:\", classification_report(y_val, y_pred))\n"
   ]
  },
  {
   "cell_type": "markdown",
   "id": "d3b4a834",
   "metadata": {},
   "source": [
    "## 📊 Phase 3.3: Model Comparison\n",
    "\n",
    "After training and tuning multiple models, here’s how each performed:\n",
    "\n",
    "| Model               | Accuracy | Precision (avg) | Recall (avg) | F1-Score (avg) | Notes |\n",
    "|---------------------|----------|------------------|---------------|----------------|-------|\n",
    "| 🔵 **Logistic Regression** | 0.7988   | 0.80             | 0.80          | 0.80           | Simple, fast, interpretable |\n",
    "| 🌲 **Random Forest**        | 0.8156   | 0.81             | 0.82          | 0.82           | Strong performer, great recall |\n",
    "| ⚡ **XGBoost (Tuned)**     | 0.8156   | 0.82             | 0.80          | 0.81           | Best cross-validation score (0.8372) |\n",
    "\n",
    "### ✅ Conclusion:\n",
    "- **XGBoost (tuned)** slightly edges out in terms of training accuracy (CV = 83.7%)\n",
    "- **Random Forest** gives the **most balanced results** on validation\n",
    "- **Logistic Regression** is a solid baseline, but less powerful for non-linear patterns\n",
    "\n",
    "\n"
   ]
  },
  {
   "cell_type": "markdown",
   "id": "5462b2a7",
   "metadata": {},
   "source": [
    "## 🚦 Phase 4 – Final Model Selection & Kaggle Submission\n",
    "\n",
    "After experimenting with multiple machine learning algorithms in the earlier phases, Phase 4 focused on finalizing the best-performing model based on test predictions, public leaderboard feedback, and practical submission formatting. This stage involved:\n",
    "\n",
    "- Comparing output CSVs from different models.\n",
    "- Evaluating predictions visually and quantitatively.\n",
    "- Selecting the most consistent and generalizable model for final submission.\n",
    "- Submitting the predictions to Kaggle and interpreting the results.\n",
    "\n",
    "The goal was not just to chase leaderboard scores, but to understand how models generalize on unseen data — a key skill in real-world ML pipelines.\n"
   ]
  },
  {
   "cell_type": "code",
   "execution_count": 40,
   "id": "281dbc3a",
   "metadata": {},
   "outputs": [
    {
     "name": "stdout",
     "output_type": "stream",
     "text": [
      "[0 1]\n"
     ]
    }
   ],
   "source": [
    "le_sex = LabelEncoder()\n",
    "le_sex.fit(train['Sex'])\n",
    "print(le_sex.classes_)   # ✅ Now this shows ['female', 'male']\n"
   ]
  },
  {
   "cell_type": "code",
   "execution_count": 48,
   "id": "bba18691",
   "metadata": {},
   "outputs": [],
   "source": [
    "# 1. Save PassengerId for submission\n",
    "# Reload the test.csv just to get PassengerId column\n",
    "test_raw = pd.read_csv('test.csv')\n",
    "test_passenger_ids = test_raw['PassengerId']\n",
    "\n",
    "# 2. Fill missing Age and Fare in test set\n",
    "test['Age'] = test['Age'].fillna(test['Age'].median())\n",
    "test['Fare'] = test['Fare'].fillna(test['Fare'].median())\n",
    "\n",
    "# 3. Encode categorical features\n",
    "test['Sex'] = test['Sex'].map({'female': 0, 'male': 1}) # Because le_sex.classes_ = ['female', 'male']\n",
    "# Make sure 'Embarked' is in test and has non-null mode\n",
    "if 'Embarked' in test.columns and test['Embarked'].isnull().sum() > 0:\n",
    "    mode_embarked = test['Embarked'].mode()\n",
    "    if not mode_embarked.empty:\n",
    "        test['Embarked'] = test['Embarked'].fillna(mode_embarked[0])\n",
    "    else:\n",
    "        test['Embarked'] = test['Embarked'].fillna('S')  # fallback if mode is empty\n",
    "\n",
    "# Now safe to map\n",
    "test['Embarked'] = test['Embarked'].map({'C': 0, 'Q': 1, 'S': 2})\n",
    " # le_embarked.classes_ = ['C', 'Q', 'S']\n",
    "test['Embarked'] = test['Embarked'].map({'S': 0, 'C': 1, 'Q': 2})\n",
    "\n",
    "# 4. Feature Engineering: FamilySize and IsAlone\n",
    "test['FamilySize'] = test['SibSp'] + test['Parch'] + 1\n",
    "test['IsAlone'] = (test['FamilySize'] == 1).astype(int)\n",
    "\n",
    "# Drop all non-numeric columns just before prediction\n",
    "non_numeric_cols = test.select_dtypes(include=['object']).columns\n",
    "test = test.drop(non_numeric_cols, axis=1)\n",
    "\n",
    "\n",
    "# 5. Predict using the best model from GridSearch\n",
    "y_test_pred = best_xgb.predict(test)\n",
    "\n",
    "#6 submission\n",
    "submission = pd.DataFrame({\n",
    "    'PassengerId': test_passenger_ids,\n",
    "    'Survived': y_test_pred\n",
    "})\n",
    "submission.to_csv('submission.csv', index=False)"
   ]
  },
  {
   "cell_type": "code",
   "execution_count": 50,
   "id": "c9a83d5b",
   "metadata": {},
   "outputs": [],
   "source": [
    "from sklearn.model_selection import GridSearchCV\n",
    "from sklearn.ensemble import RandomForestClassifier\n",
    "from sklearn.linear_model import LogisticRegression\n",
    "\n",
    "# Random Forest Grid Search\n",
    "rf_params = {\n",
    "    'n_estimators': [50, 100],\n",
    "    'max_depth': [5, 10, None]\n",
    "}\n",
    "grid_rf = GridSearchCV(RandomForestClassifier(), rf_params, cv=5, scoring='accuracy')\n",
    "grid_rf.fit(X_train, y_train)\n",
    "best_rf = grid_rf.best_estimator_\n",
    "\n",
    "# Logistic Regression Grid Search\n",
    "log_params = {\n",
    "    'C': [0.01, 0.1, 1, 10],\n",
    "    'max_iter': [1000, 2000, 3000]  # Increased\n",
    "}\n",
    "grid_log = GridSearchCV(LogisticRegression(), log_params, cv=5, scoring='accuracy')\n",
    "grid_log.fit(X_train, y_train)\n",
    "best_log = grid_log.best_estimator_\n",
    "\n"
   ]
  },
  {
   "cell_type": "code",
   "execution_count": 51,
   "id": "721b03b5",
   "metadata": {},
   "outputs": [
    {
     "name": "stdout",
     "output_type": "stream",
     "text": [
      "Random Forest Report:\n",
      "               precision    recall  f1-score   support\n",
      "\n",
      "           0       0.80      0.90      0.85       105\n",
      "           1       0.82      0.69      0.75        74\n",
      "\n",
      "    accuracy                           0.81       179\n",
      "   macro avg       0.81      0.79      0.80       179\n",
      "weighted avg       0.81      0.81      0.81       179\n",
      "\n",
      "Logistic Regression Report:\n",
      "               precision    recall  f1-score   support\n",
      "\n",
      "           0       0.82      0.85      0.83       105\n",
      "           1       0.77      0.73      0.75        74\n",
      "\n",
      "    accuracy                           0.80       179\n",
      "   macro avg       0.79      0.79      0.79       179\n",
      "weighted avg       0.80      0.80      0.80       179\n",
      "\n"
     ]
    }
   ],
   "source": [
    "from sklearn.metrics import classification_report\n",
    "\n",
    "y_rf_pred = best_rf.predict(X_val)\n",
    "print(\"Random Forest Report:\\n\", classification_report(y_val, y_rf_pred))\n",
    "\n",
    "y_log_pred = best_log.predict(X_val)\n",
    "print(\"Logistic Regression Report:\\n\", classification_report(y_val, y_log_pred))\n"
   ]
  },
  {
   "cell_type": "code",
   "execution_count": 52,
   "id": "b18d3b0b",
   "metadata": {},
   "outputs": [],
   "source": [
    "# 1. Predict on final test set using tuned Random Forest\n",
    "final_preds = best_rf.predict(test)\n",
    "\n",
    "# 2. Create submission file\n",
    "submission = pd.DataFrame({\n",
    "    'PassengerId': test_passenger_ids,\n",
    "    'Survived': final_preds\n",
    "})\n",
    "\n",
    "# 3. Save to CSV\n",
    "submission.to_csv('submission_final.csv', index=False)\n"
   ]
  },
  {
   "cell_type": "markdown",
   "id": "bb8776b4",
   "metadata": {},
   "source": [
    "## 🧾 Phase 5 – Final Evaluation & Submission\n",
    "\n",
    "### ✅ Final Model: Random Forest Classifier\n",
    "After testing multiple models (Logistic Regression, XGBoost, Random Forest), we submitted the predictions from the **Random Forest model**, which performed best in terms of balance and stability, despite not being highly tuned.\n",
    "\n",
    "- **Final Submission File:** `submission_final.csv`\n",
    "- **Model Performance Insight:** The model correctly predicted some survivors, but leaned heavily toward the majority class (`0` = Not Survived), causing a lower-than-average public score.\n",
    "\n",
    "---\n",
    "\n",
    "## 📌 Observations & Key Takeaways\n",
    "\n",
    "- **Data imbalance** (more passengers not survived) hurt model generalization.\n",
    "- **Random Forest** slightly outperformed XGBoost in our case, even without heavy tuning.\n",
    "- **GridSearchCV** was helpful for basic hyperparameter tuning, but deeper tuning was skipped due to time limits.\n",
    "- **Feature Engineering** was minimal — significant performance boost is possible with deeper insights like:\n",
    "  - Extracting titles (`Mr`, `Mrs`, etc.) from names.\n",
    "  - Creating `FamilySize` and `IsAlone` features.\n",
    "  - Binning `Age` and `Fare`.\n",
    "\n",
    "---\n",
    "\n",
    "## 🚀 What's Next\n",
    "\n",
    "To improve and resubmit with a better score:\n",
    "\n",
    "- Use **K-Fold Cross-Validation** for more stable results.\n",
    "- Engineer better features from existing columns.\n",
    "- Try **ensemble methods**: VotingClassifier, Stacking, or LightGBM + XGBoost together.\n",
    "- Balance classes better using **SMOTE** or `class_weight='balanced'`.\n",
    "\n",
    "---\n",
    "\n",
    "## 💡 What I Learned\n",
    "\n",
    "- Building a full machine learning workflow from scratch — from data cleaning to final submission.\n",
    "- The importance of **feature engineering** over just trying more complex models.\n",
    "- How to use `GridSearchCV` for model tuning, and why cross-validation matters.\n",
    "- Why real-world datasets are messy — dealing with `NaN`, categorical variables, and skewed data.\n",
    "- Most importantly, I learned how to **think like a data scientist**, not just a coder.\n"
   ]
  }
 ],
 "metadata": {
  "kernelspec": {
   "display_name": "Python 3",
   "language": "python",
   "name": "python3"
  },
  "language_info": {
   "codemirror_mode": {
    "name": "ipython",
    "version": 3
   },
   "file_extension": ".py",
   "mimetype": "text/x-python",
   "name": "python",
   "nbconvert_exporter": "python",
   "pygments_lexer": "ipython3",
   "version": "3.12.5"
  }
 },
 "nbformat": 4,
 "nbformat_minor": 5
}
